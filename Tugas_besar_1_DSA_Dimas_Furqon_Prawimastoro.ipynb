{
  "nbformat": 4,
  "nbformat_minor": 0,
  "metadata": {
    "colab": {
      "provenance": []
    },
    "kernelspec": {
      "name": "python3",
      "display_name": "Python 3"
    },
    "language_info": {
      "name": "python"
    }
  },
  "cells": [
    {
      "cell_type": "markdown",
      "metadata": {
        "id": "QZkqsHToIXBE"
      },
      "source": [
        "1.tampilkan output : \"Hallo saya siap belajar bahasa pemprograman python\" dengan menggunakan print()"
      ]
    },
    {
      "cell_type": "code",
      "metadata": {
        "id": "VL__nMv8Igcj",
        "colab": {
          "base_uri": "https://localhost:8080/"
        },
        "outputId": "7c4b1437-1c1f-4ab2-8d00-4b026a2bbbc3"
      },
      "source": [
        "#Ketik kode Anda disini\n",
        "print(\"Hallo saya siap belajar bahasa pemprograman python\")\n"
      ],
      "execution_count": 1,
      "outputs": [
        {
          "output_type": "stream",
          "name": "stdout",
          "text": [
            "Hallo saya siap belajar bahasa pemprograman python\n"
          ]
        }
      ]
    },
    {
      "cell_type": "markdown",
      "metadata": {
        "id": "yJzoJsuTI9_s"
      },
      "source": [
        "2.Cek tipe data dari 20/5"
      ]
    },
    {
      "cell_type": "code",
      "metadata": {
        "id": "Jo_79zHnJsyt",
        "colab": {
          "base_uri": "https://localhost:8080/"
        },
        "outputId": "f5588bef-0867-47af-b282-c28ab054d1c7"
      },
      "source": [
        "#Ketik kode Anda disini\n",
        "type(20/5)"
      ],
      "execution_count": 2,
      "outputs": [
        {
          "output_type": "execute_result",
          "data": {
            "text/plain": [
              "float"
            ]
          },
          "metadata": {},
          "execution_count": 2
        }
      ]
    },
    {
      "cell_type": "markdown",
      "metadata": {
        "id": "S-jJVluNJzOr"
      },
      "source": [
        "3.Konversi 0 ke boolean!"
      ]
    },
    {
      "cell_type": "code",
      "metadata": {
        "id": "TMVjAAwrJ3JO",
        "colab": {
          "base_uri": "https://localhost:8080/"
        },
        "outputId": "6a256973-1eee-47b9-9a80-a1ebc06e78cf"
      },
      "source": [
        "#Ketik kode Anda disini\n",
        "bool(0)"
      ],
      "execution_count": 3,
      "outputs": [
        {
          "output_type": "execute_result",
          "data": {
            "text/plain": [
              "False"
            ]
          },
          "metadata": {},
          "execution_count": 3
        }
      ]
    },
    {
      "cell_type": "markdown",
      "metadata": {
        "id": "vZChd92NKKFn"
      },
      "source": [
        "4.Buatlah variabel firstname dan variable lastname dengan nama anda lalu print hasilnya"
      ]
    },
    {
      "cell_type": "code",
      "metadata": {
        "colab": {
          "base_uri": "https://localhost:8080/"
        },
        "id": "DOJV3vYoKYFs",
        "outputId": "ddf5a57d-0bb7-4123-81b7-0a5e00916f79"
      },
      "source": [
        "#Contoh\n",
        "firtsname = 'Muhammad'\n",
        "lastname = 'Naufal'\n",
        "print(\"nama depan:\",firtsname)\n",
        "print(\"nama belakang:\",lastname)"
      ],
      "execution_count": null,
      "outputs": [
        {
          "output_type": "stream",
          "text": [
            "nama depan: Muhammad\n",
            "nama belakang: Naufal\n"
          ],
          "name": "stdout"
        }
      ]
    },
    {
      "cell_type": "code",
      "metadata": {
        "id": "t0fMwtEyKmMV",
        "colab": {
          "base_uri": "https://localhost:8080/"
        },
        "outputId": "7fd3e587-1540-4afd-a6cc-5054b0041bec"
      },
      "source": [
        "#Ketik kode Anda disini\n",
        "firtsname = 'Dimas'\n",
        "lastname = 'Furqon Prawimastoro'\n",
        "print(\"nama depan:\",firtsname)\n",
        "print(\"nama belakang:\",lastname)"
      ],
      "execution_count": 4,
      "outputs": [
        {
          "output_type": "stream",
          "name": "stdout",
          "text": [
            "nama depan: Dimas\n",
            "nama belakang: Furqon Prawimastoro\n"
          ]
        }
      ]
    },
    {
      "cell_type": "markdown",
      "metadata": {
        "id": "KiPL37RlLMCC"
      },
      "source": [
        "5.Buatlah variabel \"a\" berupa angka interger dan variabel \"b\" berupa angka interger (angka bebas)\n",
        "\n",
        "*   print(a+b)\n",
        "*   Lihatlah hasil pembagian a dan b lalu buatlah menjadi interger\n",
        "\n",
        "* print(a*b)\n",
        "* print a pangkat b\n",
        "\n",
        "\n",
        "\n"
      ]
    },
    {
      "cell_type": "code",
      "metadata": {
        "colab": {
          "base_uri": "https://localhost:8080/"
        },
        "id": "8mGQ1ny1LrRz",
        "outputId": "62039558-eda2-4cef-8b89-de8b0d68421b"
      },
      "source": [
        "#Contoh\n",
        "a = 10\n",
        "b = 5\n",
        "print(a+b)\n",
        "print(a/b) #hasil float\n",
        "print(a//b) #hasil interger\n",
        "print(a*b)\n",
        "print(a**b)"
      ],
      "execution_count": null,
      "outputs": [
        {
          "output_type": "stream",
          "text": [
            "15\n",
            "2.0\n",
            "2\n",
            "50\n",
            "100000\n"
          ],
          "name": "stdout"
        }
      ]
    },
    {
      "cell_type": "code",
      "metadata": {
        "id": "NE36njKBMAbe",
        "colab": {
          "base_uri": "https://localhost:8080/"
        },
        "outputId": "dffef3b4-6b5e-4461-a126-16e0c086b51e"
      },
      "source": [
        "#Ketik kode Anda disini (bedakan angka/code boleh berbeda yang terpenting hasilnya)\n",
        "a = 10\n",
        "b = 3\n",
        "print(a+b)\n",
        "print(a/b) #hasil float\n",
        "print(a//b) #hasil interger\n",
        "print(a*b)\n",
        "print(a**b)"
      ],
      "execution_count": 6,
      "outputs": [
        {
          "output_type": "stream",
          "name": "stdout",
          "text": [
            "13\n",
            "3.3333333333333335\n",
            "3\n",
            "30\n",
            "1000\n"
          ]
        }
      ]
    },
    {
      "cell_type": "markdown",
      "metadata": {
        "id": "G707w1zFMPqM"
      },
      "source": [
        "6.Hitunglah total harga dari 3 buah penghapus seharga 3500, 5 buah buku seharga 25000"
      ]
    },
    {
      "cell_type": "code",
      "metadata": {
        "id": "l4JgLjrXMctB",
        "colab": {
          "base_uri": "https://localhost:8080/"
        },
        "outputId": "3e0a8486-502a-4117-d010-8b5665483b8a"
      },
      "source": [
        "#Ketik kode Anda disini\n",
        "penghapus = 3500/3\n",
        "buku = 25000/5\n",
        "total = penghapus + buku\n",
        "print(f\"Harga total Satuan adalah :{total:.3f} Rupiah\")\n",
        "total_belanja = 3*penghapus + 5*buku\n",
        "print(\"Harga total belanja adalah :\",total_belanja,\"Rupiah\")"
      ],
      "execution_count": 35,
      "outputs": [
        {
          "output_type": "stream",
          "name": "stdout",
          "text": [
            "Harga total Satuan adalah :6166.667 Rupiah\n",
            "Harga total belanja adalah : 28500.0 Rupiah\n"
          ]
        }
      ]
    },
    {
      "cell_type": "markdown",
      "metadata": {
        "id": "qAkUoD9qMitv"
      },
      "source": [
        "7.Harga sebuah barang adalah 750000, hitunglah harga barang setelah mendapat potongan harga 45%!"
      ]
    },
    {
      "cell_type": "code",
      "metadata": {
        "id": "TlMUZ3hOMxKZ",
        "colab": {
          "base_uri": "https://localhost:8080/"
        },
        "outputId": "15c8ba05-185b-4b44-bd53-dbe8c7c04f36"
      },
      "source": [
        "#Ketik kode Anda disini\n",
        "harga_barang = 750000\n",
        "diskon = 0.45 * 750000\n",
        "harga_setelah_diskon = harga_barang - diskon\n",
        "print(\"Harga setelah diskon adalah :\",harga_setelah_diskon,\"Rupiah\")\n"
      ],
      "execution_count": 14,
      "outputs": [
        {
          "output_type": "stream",
          "name": "stdout",
          "text": [
            "Harga setelah diskon adalah : 412500.0 Rupiah\n"
          ]
        }
      ]
    },
    {
      "cell_type": "markdown",
      "metadata": {
        "id": "aHKYhHygNu8I"
      },
      "source": [
        "8.Ambil indeks ke 2 dari string \"Python itu asik\""
      ]
    },
    {
      "cell_type": "code",
      "metadata": {
        "colab": {
          "base_uri": "https://localhost:8080/",
          "height": 35
        },
        "id": "oFtZHLMqN6M1",
        "outputId": "bc03382d-4f1b-42d1-ecac-6b3d87dffd5e"
      },
      "source": [
        "#contoh indexing\n",
        "teks = 'Belajar itu asik'\n",
        "teks[2] #ambil index ke 2"
      ],
      "execution_count": null,
      "outputs": [
        {
          "output_type": "execute_result",
          "data": {
            "application/vnd.google.colaboratory.intrinsic+json": {
              "type": "string"
            },
            "text/plain": [
              "'l'"
            ]
          },
          "metadata": {
            "tags": []
          },
          "execution_count": 5
        }
      ]
    },
    {
      "cell_type": "code",
      "metadata": {
        "id": "X22YzUF-OEF1",
        "colab": {
          "base_uri": "https://localhost:8080/",
          "height": 36
        },
        "outputId": "fd2c09be-73a3-4c51-ba52-9f8d68a73f50"
      },
      "source": [
        "#Ketik kode Anda disini\n",
        "teks = 'Python itu asik'\n",
        "teks[2] #ambil index ke 2"
      ],
      "execution_count": 36,
      "outputs": [
        {
          "output_type": "execute_result",
          "data": {
            "text/plain": [
              "'t'"
            ],
            "application/vnd.google.colaboratory.intrinsic+json": {
              "type": "string"
            }
          },
          "metadata": {},
          "execution_count": 36
        }
      ]
    },
    {
      "cell_type": "markdown",
      "metadata": {
        "id": "lX7AhImSOqhK"
      },
      "source": [
        "9.Ambil kata \"yuk\" dari string \"ayuk\""
      ]
    },
    {
      "cell_type": "code",
      "metadata": {
        "id": "ZM-A2IIgPaue",
        "colab": {
          "base_uri": "https://localhost:8080/",
          "height": 36
        },
        "outputId": "c4bffbf4-71ff-4d96-84ff-8721e5ff7734"
      },
      "source": [
        "#Ketik kode Anda disini\n",
        "teks = 'ayuk'\n",
        "teks[1:4]"
      ],
      "execution_count": 39,
      "outputs": [
        {
          "output_type": "execute_result",
          "data": {
            "text/plain": [
              "'yuk'"
            ],
            "application/vnd.google.colaboratory.intrinsic+json": {
              "type": "string"
            }
          },
          "metadata": {},
          "execution_count": 39
        }
      ]
    },
    {
      "cell_type": "markdown",
      "metadata": {
        "id": "Dizc75FGPdan"
      },
      "source": [
        "10.Keluarkan output \"Akhirnya selesai\""
      ]
    },
    {
      "cell_type": "code",
      "metadata": {
        "id": "8mkqGBggTrru"
      },
      "source": [],
      "execution_count": null,
      "outputs": []
    },
    {
      "cell_type": "code",
      "metadata": {
        "id": "Qv97x4fuPhKg",
        "colab": {
          "base_uri": "https://localhost:8080/"
        },
        "outputId": "e7ddb04a-bb55-40ab-dee3-d87719fa26e0"
      },
      "source": [
        "#Ketik kode Anda disini\n",
        "print(\"Akhirnya selesai\")"
      ],
      "execution_count": 40,
      "outputs": [
        {
          "output_type": "stream",
          "name": "stdout",
          "text": [
            "Akhirnya selesai\n"
          ]
        }
      ]
    },
    {
      "cell_type": "markdown",
      "metadata": {
        "id": "tJGp7bzBTcmD"
      },
      "source": [
        "11.Gabungkan list a = [1,'hallo', 2,3] dengan list b = ['pagi', 1000]"
      ]
    },
    {
      "cell_type": "code",
      "metadata": {
        "colab": {
          "base_uri": "https://localhost:8080/"
        },
        "id": "VYYsGB7STtkS",
        "outputId": "3cfe12c5-727b-4b2a-e79a-4553f1683da1"
      },
      "source": [
        "#Cara gabungkan list\n",
        "a = ['test',1,2]\n",
        "b = [3,4,5]\n",
        "a+b"
      ],
      "execution_count": null,
      "outputs": [
        {
          "output_type": "execute_result",
          "data": {
            "text/plain": [
              "['test', 1, 2, 3, 4, 5]"
            ]
          },
          "metadata": {
            "tags": []
          },
          "execution_count": 1
        }
      ]
    },
    {
      "cell_type": "code",
      "metadata": {
        "id": "I-zvuQfOT4Sj",
        "colab": {
          "base_uri": "https://localhost:8080/"
        },
        "outputId": "b568a183-6029-4743-fb74-b4d88ef68e58"
      },
      "source": [
        "#Ketik kode Anda disini\n",
        "a = [1,'hallo',2,3]\n",
        "b = ['pagi',1000]\n",
        "a+b"
      ],
      "execution_count": 41,
      "outputs": [
        {
          "output_type": "execute_result",
          "data": {
            "text/plain": [
              "[1, 'hallo', 2, 3, 'pagi', 1000]"
            ]
          },
          "metadata": {},
          "execution_count": 41
        }
      ]
    },
    {
      "cell_type": "markdown",
      "metadata": {
        "id": "zvOONx8CUEn-"
      },
      "source": [
        "12.Buatlah sebuah list new_list yang berisi indonesia, True, 7, [1, 2, 3], 1.5"
      ]
    },
    {
      "cell_type": "code",
      "metadata": {
        "colab": {
          "base_uri": "https://localhost:8080/"
        },
        "id": "41mlRcYPUKGi",
        "outputId": "f9f616d1-fc4d-4c5d-faaa-9479a01ac537"
      },
      "source": [
        "#Cara buat nested list\n",
        "contoh = ['malaysia',True,[9,8,7],2.5] #isi list hanya contoh\n",
        "contoh"
      ],
      "execution_count": null,
      "outputs": [
        {
          "output_type": "execute_result",
          "data": {
            "text/plain": [
              "['malaysia', True, [9, 8, 7], 2.5]"
            ]
          },
          "metadata": {
            "tags": []
          },
          "execution_count": 7
        }
      ]
    },
    {
      "cell_type": "code",
      "metadata": {
        "id": "qNG2duabUWiT",
        "colab": {
          "base_uri": "https://localhost:8080/"
        },
        "outputId": "3c535e61-794d-438f-dfa2-6ffa73eba9c6"
      },
      "source": [
        "#Ketik kode Anda disini\n",
        "new_list = ['indonesia','True',7,[1,2,3],1.5]\n",
        "new_list"
      ],
      "execution_count": 43,
      "outputs": [
        {
          "output_type": "execute_result",
          "data": {
            "text/plain": [
              "['indonesia', 'True', 7, [1, 2, 3], 1.5]"
            ]
          },
          "metadata": {},
          "execution_count": 43
        }
      ]
    },
    {
      "cell_type": "markdown",
      "metadata": {
        "id": "Kz4cQ_ffWt4a"
      },
      "source": [
        "13.Ambil elemen list pada indeks 2 dari list new_list"
      ]
    },
    {
      "cell_type": "code",
      "metadata": {
        "colab": {
          "base_uri": "https://localhost:8080/"
        },
        "id": "Y_QFsEGpW372",
        "outputId": "52d403ec-4c4b-40e4-82f5-016bb2248622"
      },
      "source": [
        "#Contoh indexing list indeks\n",
        "contoh = ['malaysia',True,[9,8,7],2.5] #isi list hanya contoh\n",
        "contoh[2]\n"
      ],
      "execution_count": null,
      "outputs": [
        {
          "output_type": "execute_result",
          "data": {
            "text/plain": [
              "[9, 8, 7]"
            ]
          },
          "metadata": {
            "tags": []
          },
          "execution_count": 14
        }
      ]
    },
    {
      "cell_type": "code",
      "metadata": {
        "id": "GXIydlKkXMEX",
        "colab": {
          "base_uri": "https://localhost:8080/"
        },
        "outputId": "69097d96-e16e-43f1-89c1-d1d395dcd1d6"
      },
      "source": [
        "#Ketik kode Anda disini\n",
        "new_list[2]"
      ],
      "execution_count": 44,
      "outputs": [
        {
          "output_type": "execute_result",
          "data": {
            "text/plain": [
              "7"
            ]
          },
          "metadata": {},
          "execution_count": 44
        }
      ]
    },
    {
      "cell_type": "markdown",
      "metadata": {
        "id": "z-uNrdLwXE1h"
      },
      "source": [
        "14.Ambil elemen list pada indeks 1, 2, 3 dari list new_list !"
      ]
    },
    {
      "cell_type": "code",
      "metadata": {
        "colab": {
          "base_uri": "https://localhost:8080/"
        },
        "id": "OAoJC-78XKPv",
        "outputId": "4de09755-adc5-4356-b4af-697e08d73070"
      },
      "source": [
        "#cara slicing\n",
        "contoh[1:4]"
      ],
      "execution_count": null,
      "outputs": [
        {
          "output_type": "execute_result",
          "data": {
            "text/plain": [
              "[True, [9, 8, 7], 2.5]"
            ]
          },
          "metadata": {
            "tags": []
          },
          "execution_count": 6
        }
      ]
    },
    {
      "cell_type": "code",
      "metadata": {
        "id": "J9pYOpgUXwo-",
        "colab": {
          "base_uri": "https://localhost:8080/"
        },
        "outputId": "b3938ef1-e2f2-4602-c099-111b8f77ec9d"
      },
      "source": [
        "#Ketik kode Anda disini\n",
        "new_list[1:4]"
      ],
      "execution_count": 45,
      "outputs": [
        {
          "output_type": "execute_result",
          "data": {
            "text/plain": [
              "['True', 7, [1, 2, 3]]"
            ]
          },
          "metadata": {},
          "execution_count": 45
        }
      ]
    },
    {
      "cell_type": "markdown",
      "metadata": {
        "id": "0fcN_rKHX7Yl"
      },
      "source": [
        "15.Hapus 1.5 pada list new_list"
      ]
    },
    {
      "cell_type": "code",
      "metadata": {
        "colab": {
          "base_uri": "https://localhost:8080/"
        },
        "id": "QWa4PUPIYHa7",
        "outputId": "5b0fc3c1-1b67-4c23-9e46-e4238ad369c1"
      },
      "source": [
        "#cara hapus isi list\n",
        "contoh.remove(2.5)\n",
        "contoh"
      ],
      "execution_count": null,
      "outputs": [
        {
          "output_type": "execute_result",
          "data": {
            "text/plain": [
              "['malaysia', True, [9, 8, 7]]"
            ]
          },
          "metadata": {
            "tags": []
          },
          "execution_count": 15
        }
      ]
    },
    {
      "cell_type": "code",
      "metadata": {
        "id": "kDuUKBQsZLjA",
        "colab": {
          "base_uri": "https://localhost:8080/"
        },
        "outputId": "199c66e4-0bf5-4ab3-941b-16b8946b5bdd"
      },
      "source": [
        "#Ketik kode Anda disini\n",
        "new_list.remove(1.5)\n",
        "new_list"
      ],
      "execution_count": 46,
      "outputs": [
        {
          "output_type": "execute_result",
          "data": {
            "text/plain": [
              "['indonesia', 'True', 7, [1, 2, 3]]"
            ]
          },
          "metadata": {},
          "execution_count": 46
        }
      ]
    },
    {
      "cell_type": "code",
      "metadata": {
        "id": "NO1G4ZoxYfMC"
      },
      "source": [],
      "execution_count": null,
      "outputs": []
    },
    {
      "cell_type": "markdown",
      "metadata": {
        "id": "ZR3opKnqPhsW"
      },
      "source": [
        "-Selamat mengerjakan-\n",
        "\n"
      ]
    }
  ]
}